{
  "nbformat": 4,
  "nbformat_minor": 0,
  "metadata": {
    "colab": {
      "name": "Raul Reyero - AG1.ipynb",
      "version": "0.3.2",
      "provenance": [],
      "collapsed_sections": [],
      "include_colab_link": true
    },
    "kernelspec": {
      "name": "python3",
      "display_name": "Python 3"
    }
  },
  "cells": [
    {
      "cell_type": "markdown",
      "metadata": {
        "id": "view-in-github",
        "colab_type": "text"
      },
      "source": [
        "<a href=\"https://colab.research.google.com/github/raul27868/03MAIR---Algoritmos-de-Optimizacion---2019/blob/master/AG1/Raul_Reyero_AG1.ipynb\" target=\"_parent\"><img src=\"https://colab.research.google.com/assets/colab-badge.svg\" alt=\"Open In Colab\"/></a>"
      ]
    },
    {
      "metadata": {
        "id": "b0HbqoAvjyP6",
        "colab_type": "text"
      },
      "cell_type": "markdown",
      "source": [
        "# AG1- Actividad Guiada 1\n",
        "# Raul Reyero\n",
        "**# URL:http://github.com/mi_nombre/03MAIR---Algoritmos-de-Optimizacion---2019/blob/master/AG1/**"
      ]
    },
    {
      "metadata": {
        "colab_type": "text",
        "id": "xNT1K28L0v7N"
      },
      "cell_type": "markdown",
      "source": [
        "**Decorador.Calculo de tiempo de ejecución(Isabel Vázquez)**"
      ]
    },
    {
      "metadata": {
        "id": "VT5wRZdO04TY",
        "colab_type": "code",
        "colab": {}
      },
      "cell_type": "code",
      "source": [
        "#Decorador para calcular_tiempo a la función para la cual queremos calcular el tiempo de ejecución(Isabel Vázquez)\n",
        "\n",
        "from time import time\n",
        "#Función para calcular el tiempo de ejecución\n",
        "def calcular_tiempo(f):\n",
        "   \n",
        "    def wrapper(*args, **kwargs):        \n",
        "        inicio = time()       \n",
        "        resultado = f(*args, **kwargs)       \n",
        "        tiempo = time() - inicio\n",
        "        print(\"Tiempo de ejecución para algoritmo: \"+str(tiempo))\n",
        "        return resultado\n",
        "    \n",
        "    return wrapper\n",
        "from time import time"
      ],
      "execution_count": 0,
      "outputs": []
    },
    {
      "metadata": {
        "id": "BB5KWq2AjvaG",
        "colab_type": "text"
      },
      "cell_type": "markdown",
      "source": [
        "\n",
        "**Algoritmo Quick Sort. Tecnica Divide y venceras**\n"
      ]
    },
    {
      "metadata": {
        "id": "VUk5pHZbuEd5",
        "colab_type": "code",
        "outputId": "af9f5f6f-0cc8-44c2-87c0-012a81414c59",
        "colab": {
          "base_uri": "https://localhost:8080/",
          "height": 50
        }
      },
      "cell_type": "code",
      "source": [
        "A = [9187, 244, 4054, 9222, 8373, 4993, 5265, 5470, 4519, 7182, 2035, 3506, 4337, 7580, 2554, 2824, 8357, 4447, 7379]\n",
        "\n",
        "\n",
        "#A=list(map(lambda x: random.randrange(1, 10000) , range(1,300)))\n",
        "\n",
        "def quick_sort(A):\n",
        "  \n",
        "  if len(A) == 1:\n",
        "     return A\n",
        "\n",
        "  if len(A) == 2:\n",
        "     return [min(A), max(A)]\n",
        "  \n",
        "  #Pivote es (A[0] + A[1] + A[2])/3. Se puede hacer otra eleccion más eficiente\n",
        "  pivote = (A[0] + A[1] + A[2])/3\n",
        "  IZQ = []\n",
        "  DER = []\n",
        "  \n",
        "  for i in A:\n",
        "    if i <= pivote:\n",
        "      IZQ.append(i)\n",
        "    else:\n",
        "      DER.append(i)\n",
        " \n",
        "  return quick_sort(IZQ) + quick_sort(DER)\n",
        "\n",
        "\n",
        "#Se aplica el decorador calcular_tiempo a la función para la cual queremos calcular el tiempo de ejecución\n",
        "@calcular_tiempo\n",
        "def QS(A):\n",
        "  return quick_sort(A)\n",
        "\n",
        "print( QS(A) )\n",
        "\n",
        "\n",
        "\n",
        "\n"
      ],
      "execution_count": 0,
      "outputs": [
        {
          "output_type": "stream",
          "text": [
            "Tiempo de ejecución para algoritmo: 3.4332275390625e-05\n",
            "[244, 2035, 2554, 2824, 3506, 4054, 4337, 4447, 4519, 4993, 5265, 5470, 7182, 7379, 7580, 8357, 8373, 9187, 9222]\n"
          ],
          "name": "stdout"
        }
      ]
    },
    {
      "metadata": {
        "id": "hv13gEoD7EIH",
        "colab_type": "text"
      },
      "cell_type": "markdown",
      "source": [
        "**Algoritmo Voraz. Cambio de monedas**\n",
        " "
      ]
    },
    {
      "metadata": {
        "id": "9ZMhPKoc972h",
        "colab_type": "code",
        "outputId": "6cf67093-998d-4b1c-9334-324de144f873",
        "colab": {
          "base_uri": "https://localhost:8080/",
          "height": 68
        }
      },
      "cell_type": "code",
      "source": [
        "#Cambio de monedas\n",
        "################################################################################\n",
        "\n",
        "def cambio_monedas(CANTIDAD,SISTEMA):\n",
        "  \n",
        "  print(\"SISTEMA:\")\n",
        "  print(SISTEMA)\n",
        "  \n",
        "  SOLUCION = [0 for i in range(len(SISTEMA)) ]   #Inicializamos el array que contendrá la cantidad de monedas de cada valor\n",
        "  VALOR_ACULULADO = 0                            #Inicializamos el valor acumulado \n",
        "  \n",
        "  \n",
        "  for i in range(len(SISTEMA)):                           #Recorremos el sistema monetario (Conjunto de candidatos) \n",
        "    monedas = int( (CANTIDAD-VALOR_ACULULADO)/SISTEMA[i]) #Calcula la cantidad de monedas de valor SISTEMA[i] (Función de selección)  \n",
        "    SOLUCION[i] = monedas                                 #Añade el numero de monedas a la solución \n",
        "    VALOR_ACULULADO += monedas * SISTEMA[i]               #Incrementa el valor acumulado (Función de factibilidad)\n",
        "    if VALOR_ACULULADO == CANTIDAD: return SOLUCION       #finalizamos si ya hemos llegado a la solución(Criterio de solución final)\n",
        "      \n",
        "\n",
        "    \n",
        "  return SOLUCION\n",
        "  \n",
        "SISTEMA = [25, 10, 5, 1]\n",
        "cambio_monedas(234, SISTEMA)\n"
      ],
      "execution_count": 0,
      "outputs": [
        {
          "output_type": "stream",
          "text": [
            "SISTEMA:\n",
            "[25, 10, 5, 1]\n"
          ],
          "name": "stdout"
        },
        {
          "output_type": "execute_result",
          "data": {
            "text/plain": [
              "[9, 0, 1, 4]"
            ]
          },
          "metadata": {
            "tags": []
          },
          "execution_count": 14
        }
      ]
    },
    {
      "metadata": {
        "id": "tsXc-VZiQ36L",
        "colab_type": "code",
        "colab": {}
      },
      "cell_type": "code",
      "source": [
        "\n",
        "\n",
        "\n",
        "\n",
        "\n",
        "\n"
      ],
      "execution_count": 0,
      "outputs": []
    },
    {
      "metadata": {
        "id": "dnswWguE7EUt",
        "colab_type": "text"
      },
      "cell_type": "markdown",
      "source": [
        ""
      ]
    },
    {
      "metadata": {
        "id": "qW-nDFZS7Eg_",
        "colab_type": "text"
      },
      "cell_type": "markdown",
      "source": [
        "**Vuelta Atrás. 8 Reinas**"
      ]
    },
    {
      "metadata": {
        "id": "HHPNlF5fNETc",
        "colab_type": "code",
        "colab": {}
      },
      "cell_type": "code",
      "source": [
        "#8 Reinas\n",
        "\n",
        "def es_prometedora(SOLUCION,etapa):\n",
        "  #print(SOLUCION)\n",
        "  #Si la solución tiene dos valores iguales no es valida => Dos reinas en la misma fila\n",
        "  for i in range(etapa+1):\n",
        "    #print(\"El valor \" + str(SOLUCION[i]) + \" está \" +  str(SOLUCION.count(SOLUCION[i])) + \" veces\")\n",
        "    if SOLUCION.count(SOLUCION[i]) > 1:       return False\n",
        "  \n",
        "    #Verifica las diagonales\n",
        "    for j in range(i+1, etapa +1 ):\n",
        "      #print(\"Comprobando diagonal de \" + str(i) + \" y \" + str(j))\n",
        "      if abs(i-j) == abs(SOLUCION[i]-SOLUCION[j]) : return False\n",
        "  return True\n",
        "\n",
        "def escribe(S):\n",
        "  n = len(S)\n",
        "  for x in range(n):\n",
        "    print(\"\")\n",
        "    for i in range(n):\n",
        "      if solucion[i] == x+1:\n",
        "        print(\" X \" , end=\"\")\n",
        "      else:\n",
        "        print(\" - \", end=\"\")\n",
        "\n",
        "def reinas(N,solucion,etapa): #Tamaño del tablero\n",
        "  \n",
        "  for i in range(1,N+1):\n",
        "    solucion[etapa] = i\n",
        "    \n",
        "    #print(solucion)\n",
        "    if es_prometedora(solucion,etapa):\n",
        "      if etapa == N-1 :\n",
        "        print(\"\\n\\nLa solución es:\")\n",
        "        print(solucion)\n",
        "        escribe(solucion)\n",
        "      else:\n",
        "        #print(\"Es prometedora\\n###################\")\n",
        "        reinas(N,solucion,etapa+1)\n",
        "    else:\n",
        "      #print(\"NO PROMETEDORA\\n###################\")\n",
        "      None\n",
        "      \n",
        "    solucion[etapa] = 0  \n",
        "        \n",
        "        \n",
        "N=8\n",
        "solucion=[0 for i in range(N)]  \n",
        "etapa=0\n",
        "reinas(N,solucion,etapa) \n",
        " \n",
        "  "
      ],
      "execution_count": 0,
      "outputs": []
    },
    {
      "metadata": {
        "id": "ZQwkvn9qEhJu",
        "colab_type": "code",
        "colab": {}
      },
      "cell_type": "code",
      "source": [
        ""
      ],
      "execution_count": 0,
      "outputs": []
    },
    {
      "metadata": {
        "id": "C6E5tJ3qEiBG",
        "colab_type": "text"
      },
      "cell_type": "markdown",
      "source": [
        "**Práctica Indiviudal. Dos puntos más cercanos**\n"
      ]
    },
    {
      "metadata": {
        "id": "OAotM9lVEf0C",
        "colab_type": "code",
        "colab": {}
      },
      "cell_type": "code",
      "source": [
        "import random \n",
        "\n",
        "LISTA_1D = [random.randrange(1,10000) for x in range(1000)]\n",
        "\n",
        "\n",
        "LISTA_2D = [(random.randrange(1,10000),random.randrange(1,10000)) for x in range(1000)]\n",
        "\n",
        "print(LISTA_2D)"
      ],
      "execution_count": 0,
      "outputs": []
    },
    {
      "metadata": {
        "id": "9KpBngs20TTl",
        "colab_type": "code",
        "colab": {}
      },
      "cell_type": "code",
      "source": [
        ""
      ],
      "execution_count": 0,
      "outputs": []
    },
    {
      "metadata": {
        "id": "v2soPCa7e9uX",
        "colab_type": "code",
        "colab": {}
      },
      "cell_type": "code",
      "source": [
        ""
      ],
      "execution_count": 0,
      "outputs": []
    },
    {
      "metadata": {
        "id": "9jXxPg2j8yMD",
        "colab_type": "code",
        "colab": {}
      },
      "cell_type": "code",
      "source": [
        "\n",
        "\n"
      ],
      "execution_count": 0,
      "outputs": []
    },
    {
      "metadata": {
        "id": "H66r13GVmRBV",
        "colab_type": "code",
        "colab": {}
      },
      "cell_type": "code",
      "source": [
        ""
      ],
      "execution_count": 0,
      "outputs": []
    }
  ]
}