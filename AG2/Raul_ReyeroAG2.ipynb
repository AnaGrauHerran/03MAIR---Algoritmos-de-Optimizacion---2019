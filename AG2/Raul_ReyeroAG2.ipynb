{
  "nbformat": 4,
  "nbformat_minor": 0,
  "metadata": {
    "colab": {
      "name": "Raul ReyeroAG2.ipynb",
      "version": "0.3.2",
      "provenance": [],
      "include_colab_link": true
    },
    "kernelspec": {
      "name": "python3",
      "display_name": "Python 3"
    }
  },
  "cells": [
    {
      "cell_type": "markdown",
      "metadata": {
        "id": "view-in-github",
        "colab_type": "text"
      },
      "source": [
        "<a href=\"https://colab.research.google.com/github/raul27868/03MAIR---Algoritmos-de-Optimizacion---2019/blob/master/AG2/Raul_ReyeroAG2.ipynb\" target=\"_parent\"><img src=\"https://colab.research.google.com/assets/colab-badge.svg\" alt=\"Open In Colab\"/></a>"
      ]
    },
    {
      "metadata": {
        "id": "Zmvpgia2Hiu6",
        "colab_type": "code",
        "colab": {}
      },
      "cell_type": "code",
      "source": [
        "#Calculo de Tiempos(Isabel Vazques). (Pte. analizar aportación de Miguel Angel Soto)\n",
        "from time import time\n",
        "def calcular_tiempo(f):\n",
        "   \n",
        "    def wrapper(*args, **kwargs):        \n",
        "        inicio = time()       \n",
        "        resultado = f(*args, **kwargs)       \n",
        "        tiempo = float(time() - inicio)     \n",
        "        print(\"\\r\\n Tiempo de ejecución para algoritmo: \"+\"{0:.25f}\".format(tiempo))\n",
        "        return resultado\n",
        "    \n",
        "    return wrapper"
      ],
      "execution_count": 0,
      "outputs": []
    },
    {
      "metadata": {
        "id": "jcno0x6OHnIG",
        "colab_type": "text"
      },
      "cell_type": "markdown",
      "source": [
        "Raul Reyero - AG2<br>\n",
        "Actividad Guiada2<br>\n",
        "Url: [https://github.com/raul27868/03MAIR---Algoritmos-de-Optimizacion---2019/tree/master/AG2](https://github.com/raul27868/03MAIR---Algoritmos-de-Optimizacion---2019/tree/master/AG2)"
      ]
    },
    {
      "metadata": {
        "id": "T8hIa99QKAmX",
        "colab_type": "code",
        "colab": {
          "base_uri": "https://localhost:8080/",
          "height": 54
        },
        "outputId": "d844487b-bf64-45a4-be64-887e4bd348e3"
      },
      "cell_type": "code",
      "source": [
        "import random\n",
        "import math\n",
        "\n",
        "\n",
        "N=100\n",
        "\n",
        "LISTA_2D = [  (random.randrange(1,N*10),random.randrange(1,N*10) )  for _ in range(N)]\n",
        "\n",
        "print(LISTA_2D)"
      ],
      "execution_count": 27,
      "outputs": [
        {
          "output_type": "stream",
          "text": [
            "[(335, 702), (629, 999), (122, 520), (568, 673), (718, 892), (753, 647), (553, 914), (59, 954), (586, 940), (351, 608), (896, 302), (83, 513), (940, 352), (338, 15), (606, 215), (874, 959), (594, 799), (167, 522), (711, 937), (976, 598), (234, 554), (616, 307), (316, 763), (658, 434), (361, 157), (429, 42), (71, 15), (289, 69), (73, 965), (600, 613), (433, 839), (927, 359), (953, 655), (155, 354), (655, 759), (101, 528), (92, 29), (366, 424), (762, 167), (727, 675), (791, 293), (852, 341), (150, 140), (619, 512), (429, 527), (91, 834), (486, 918), (940, 201), (805, 519), (709, 347), (958, 808), (277, 105), (356, 71), (240, 650), (298, 707), (98, 958), (187, 967), (237, 447), (556, 680), (569, 564), (713, 65), (196, 593), (357, 78), (47, 479), (670, 507), (373, 395), (504, 47), (927, 602), (329, 312), (807, 560), (226, 525), (590, 364), (856, 863), (603, 93), (887, 72), (684, 150), (736, 599), (766, 35), (305, 784), (409, 272), (897, 193), (910, 436), (259, 513), (835, 849), (584, 237), (707, 22), (825, 993), (843, 37), (988, 934), (329, 288), (559, 535), (775, 16), (984, 854), (699, 452), (182, 598), (932, 383), (822, 503), (199, 161), (741, 465), (95, 743)]\n"
          ],
          "name": "stdout"
        }
      ]
    },
    {
      "metadata": {
        "id": "X6VP_KC_H5HO",
        "colab_type": "code",
        "colab": {
          "base_uri": "https://localhost:8080/",
          "height": 34
        },
        "outputId": "e859b6cd-4ce0-4475-c459-d5ad89e6fdd3"
      },
      "cell_type": "code",
      "source": [
        "def distancia(A,B):\n",
        "  if type(A) is int or type(A) is float:\n",
        "    return  abs(B-A)\n",
        "  else:\n",
        "    return math.sqrt(sum([   (A[i]-B[i])**2 for i in range(len(A))   ]))\n",
        "  \n",
        "distancia((1,3), (2,5))"
      ],
      "execution_count": 7,
      "outputs": [
        {
          "output_type": "execute_result",
          "data": {
            "text/plain": [
              "2.23606797749979"
            ]
          },
          "metadata": {
            "tags": []
          },
          "execution_count": 7
        }
      ]
    },
    {
      "metadata": {
        "id": "7sXsgju8LWQ7",
        "colab_type": "code",
        "colab": {
          "base_uri": "https://localhost:8080/",
          "height": 34
        },
        "outputId": "da39396b-e225-4593-a5e1-1fc2a8bb87e8"
      },
      "cell_type": "code",
      "source": [
        "#Fuerza Bruta\n",
        "\n",
        "def distancia_fuerza_bruta(L):\n",
        "  mejor_distancia = 100000e10\n",
        "  \n",
        "  A,B = (),()\n",
        "  \n",
        "  for i in range(len(L)):\n",
        "    for j in range(i+1, len(L)):\n",
        "      D = distancia(L[i],L[j])\n",
        "      if D < mejor_distancia:\n",
        "                A,B=L[i],L[j]\n",
        "                mejor_distancia = D\n",
        "  return [A,B] \n",
        "\n",
        "distancia_fuerza_bruta(LISTA_2D)                "
      ],
      "execution_count": 26,
      "outputs": [
        {
          "output_type": "execute_result",
          "data": {
            "text/plain": [
              "[(14654, 16510), (14646, 16504)]"
            ]
          },
          "metadata": {
            "tags": []
          },
          "execution_count": 26
        }
      ]
    },
    {
      "metadata": {
        "id": "pl6FfKjnPpiV",
        "colab_type": "code",
        "colab": {
          "base_uri": "https://localhost:8080/",
          "height": 67
        },
        "outputId": "f75bfd2b-1d4f-43a5-82a7-66ba05be8d10"
      },
      "cell_type": "code",
      "source": [
        "def distancia_divide_y_venceras(L):\n",
        "  #Si hay pocos por Fuerza Bruta\n",
        "  if len(L) <10: \n",
        "    return  distancia_fuerza_bruta(L)\n",
        "  \n",
        "  \n",
        "  #Dividir en listas grandes\n",
        "  #pivite =  sum([L[i][0]for i in range(len(L))]) / len(L)\n",
        "  \n",
        "  \n",
        "  LISTA_IZQ = sorted(L, key=lambda x: x[0])[:len(L)//2]\n",
        "  LISTA_DER = sorted(L, key=lambda x: x[0])[len(L)//2:]\n",
        "  \n",
        "  PUNTOS_LISTA_IZQ = distancia_divide_y_venceras(LISTA_IZQ)\n",
        "  PUNTOS_LISTA_DER = distancia_divide_y_venceras(LISTA_DER)\n",
        "  \n",
        "  return distancia_fuerza_bruta(PUNTOS_LISTA_IZQ + PUNTOS_LISTA_DER)\n",
        "  \n",
        "\n",
        "@calcular_tiempo  \n",
        "def LANZA(L):\n",
        "  return distancia_divide_y_venceras(L)\n",
        "  \n",
        "SOL = LANZA(LISTA_2D[:1000])\n",
        "\n",
        "print(SOL)"
      ],
      "execution_count": 40,
      "outputs": [
        {
          "output_type": "stream",
          "text": [
            "\r\n",
            " Tiempo de ejecución para algoritmo: 0.0017087459564208984375000\n",
            "[(356, 71), (357, 78)]\n"
          ],
          "name": "stdout"
        }
      ]
    },
    {
      "metadata": {
        "id": "qugV4DcvWyoq",
        "colab_type": "code",
        "colab": {
          "base_uri": "https://localhost:8080/",
          "height": 138
        },
        "outputId": "b4a7a91a-b27a-4417-8a0f-bc0584d90018"
      },
      "cell_type": "code",
      "source": [
        "TARIFAS = [\n",
        "[0,5,4,3,999,999,999],\n",
        "[999,0,999,2,3,999,11],\n",
        "[999,999, 0,1,999,4,10],\n",
        "[999,999,999, 0,5,6,9],\n",
        "[999,999, 999,999,0,999,4],\n",
        "[999,999, 999,999,999,0,3],\n",
        "[999,999,999,999,999,999,0]\n",
        "]\n",
        "\n",
        "#Paseo por el rio\n",
        "def Precios(TARIFAS):\n",
        "  N = len(TARIFAS[0])\n",
        "  \n",
        "  PRECIOS = [ [9999]*N for i in [9999]*N ]\n",
        "  RUTAS    = [ [\"\"]*N for i in [9999]*N ]\n",
        "  \n",
        "\n",
        "  \n",
        "  for i in range(N-1):\n",
        "    for j in range(i+1,N):\n",
        "      MIN = TARIFAS[i][j]\n",
        "      RUTAS[i][j] = i\n",
        "      \n",
        "      for k in range(i,j):\n",
        "        if PRECIOS[i][k]+ TARIFAS[k][j] < MIN:\n",
        "          MIN = min( MIN , PRECIOS[i][k]+ TARIFAS[k][j] )\n",
        "          RUTAS[i][j] = k\n",
        "      PRECIOS[i][j] = MIN\n",
        "      \n",
        "  return PRECIOS, RUTAS\n",
        "\n",
        "  \n",
        "PRECIOS, RUTAS = Precios(TARIFAS)\n",
        "\n",
        "print(PRECIOS)\n",
        "\n",
        "print()\n",
        "\n",
        "print(RUTAS)\n",
        "\n",
        "def calcular_ruta(RUTAS, desde, hasta):\n",
        "  if desde == hasta:\n",
        "    #print(\"Ir a :\" + str(desde))\n",
        "    return desde \n",
        "  else:\n",
        "    return str(calcular_ruta(RUTAS, desde, RUTAS[desde][hasta])) +  ',' + str(RUTAS[desde][hasta]) \n",
        "\n",
        "print(\"\\nLa ruta es:\")  \n",
        "calcular_ruta(RUTAS, 0,6)"
      ],
      "execution_count": 51,
      "outputs": [
        {
          "output_type": "stream",
          "text": [
            "[[9999, 5, 4, 3, 8, 8, 11], [9999, 9999, 999, 2, 3, 8, 7], [9999, 9999, 9999, 1, 6, 4, 7], [9999, 9999, 9999, 9999, 5, 6, 9], [9999, 9999, 9999, 9999, 9999, 999, 4], [9999, 9999, 9999, 9999, 9999, 9999, 3], [9999, 9999, 9999, 9999, 9999, 9999, 9999]]\n",
            "\n",
            "[['', 0, 0, 0, 1, 2, 5], ['', '', 1, 1, 1, 3, 4], ['', '', '', 2, 3, 2, 5], ['', '', '', '', 3, 3, 3], ['', '', '', '', '', 4, 4], ['', '', '', '', '', '', 5], ['', '', '', '', '', '', '']]\n",
            "\n",
            "La ruta es:\n"
          ],
          "name": "stdout"
        },
        {
          "output_type": "execute_result",
          "data": {
            "text/plain": [
              "'0,0,2,5'"
            ]
          },
          "metadata": {
            "tags": []
          },
          "execution_count": 51
        }
      ]
    }
  ]
}