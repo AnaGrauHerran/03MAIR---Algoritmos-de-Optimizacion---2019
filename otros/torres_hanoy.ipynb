{
  "nbformat": 4,
  "nbformat_minor": 0,
  "metadata": {
    "colab": {
      "name": "torres_hanoy.ipynb",
      "version": "0.3.2",
      "provenance": [],
      "include_colab_link": true
    },
    "kernelspec": {
      "name": "python3",
      "display_name": "Python 3"
    }
  },
  "cells": [
    {
      "cell_type": "markdown",
      "metadata": {
        "id": "view-in-github",
        "colab_type": "text"
      },
      "source": [
        "<a href=\"https://colab.research.google.com/github/raul27868/03MAIR---Algoritmos-de-Optimizacion---2019/blob/master/otros/torres_hanoy.ipynb\" target=\"_parent\"><img src=\"https://colab.research.google.com/assets/colab-badge.svg\" alt=\"Open In Colab\"/></a>"
      ]
    },
    {
      "metadata": {
        "id": "rbPcIXG1v9R4",
        "colab_type": "code",
        "colab": {
          "base_uri": "https://localhost:8080/",
          "height": 269
        },
        "outputId": "650c7f3e-6db4-4517-99b6-053b05a41ecd"
      },
      "cell_type": "code",
      "source": [
        "#Torres de Hanoi\n",
        "\n",
        "def torres_hanoy(N, desde, hasta):\n",
        "  if  N==1:\n",
        "    print(\"LLevar desde \" + str(desde) + \" hasta \" + str(hasta) )\n",
        "  else:\n",
        "    torres_hanoy(N-1,desde, 6-desde-hasta )\n",
        "    print(\"LLevar desde \" +  str(desde)  + \" hasta \" + str(hasta) )\n",
        "    torres_hanoy(N-1, 6-desde-hasta , hasta )\n",
        "  \n",
        "torres_hanoy(4,1,3)"
      ],
      "execution_count": 1,
      "outputs": [
        {
          "output_type": "stream",
          "text": [
            "LLevar desde 1 hasta 2\n",
            "LLevar desde 1 hasta 3\n",
            "LLevar desde 2 hasta 3\n",
            "LLevar desde 1 hasta 2\n",
            "LLevar desde 3 hasta 1\n",
            "LLevar desde 3 hasta 2\n",
            "LLevar desde 1 hasta 2\n",
            "LLevar desde 1 hasta 3\n",
            "LLevar desde 2 hasta 3\n",
            "LLevar desde 2 hasta 1\n",
            "LLevar desde 3 hasta 1\n",
            "LLevar desde 2 hasta 3\n",
            "LLevar desde 1 hasta 2\n",
            "LLevar desde 1 hasta 3\n",
            "LLevar desde 2 hasta 3\n"
          ],
          "name": "stdout"
        }
      ]
    },
    {
      "metadata": {
        "id": "NMhkhjhPwCVC",
        "colab_type": "code",
        "colab": {}
      },
      "cell_type": "code",
      "source": [
        ""
      ],
      "execution_count": 0,
      "outputs": []
    }
  ]
}